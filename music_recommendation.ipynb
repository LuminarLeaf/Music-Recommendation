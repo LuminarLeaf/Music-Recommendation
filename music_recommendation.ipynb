{
  "nbformat": 4,
  "nbformat_minor": 0,
  "metadata": {
    "colab": {
      "provenance": []
    },
    "kernelspec": {
      "name": "python3",
      "display_name": "Python 3"
    },
    "language_info": {
      "name": "python"
    }
  },
  "cells": [
    {
      "cell_type": "code",
      "execution_count": null,
      "metadata": {
        "colab": {
          "base_uri": "https://localhost:8080/"
        },
        "id": "AurnBB5OEJb9",
        "outputId": "12e8a42d-2d4c-4a64-f03a-30061fc09e6b"
      },
      "outputs": [
        {
          "output_type": "stream",
          "name": "stdout",
          "text": [
            "Requirement already satisfied: pandas in /usr/local/lib/python3.10/dist-packages (1.5.3)\n",
            "Requirement already satisfied: numpy in /usr/local/lib/python3.10/dist-packages (1.22.4)\n",
            "Requirement already satisfied: matplotlib in /usr/local/lib/python3.10/dist-packages (3.7.1)\n",
            "Requirement already satisfied: seaborn in /usr/local/lib/python3.10/dist-packages (0.12.2)\n",
            "Requirement already satisfied: scikit-learn in /usr/local/lib/python3.10/dist-packages (1.2.2)\n",
            "Requirement already satisfied: python-dateutil>=2.8.1 in /usr/local/lib/python3.10/dist-packages (from pandas) (2.8.2)\n",
            "Requirement already satisfied: pytz>=2020.1 in /usr/local/lib/python3.10/dist-packages (from pandas) (2022.7.1)\n",
            "Requirement already satisfied: contourpy>=1.0.1 in /usr/local/lib/python3.10/dist-packages (from matplotlib) (1.1.0)\n",
            "Requirement already satisfied: cycler>=0.10 in /usr/local/lib/python3.10/dist-packages (from matplotlib) (0.11.0)\n",
            "Requirement already satisfied: fonttools>=4.22.0 in /usr/local/lib/python3.10/dist-packages (from matplotlib) (4.40.0)\n",
            "Requirement already satisfied: kiwisolver>=1.0.1 in /usr/local/lib/python3.10/dist-packages (from matplotlib) (1.4.4)\n",
            "Requirement already satisfied: packaging>=20.0 in /usr/local/lib/python3.10/dist-packages (from matplotlib) (23.1)\n",
            "Requirement already satisfied: pillow>=6.2.0 in /usr/local/lib/python3.10/dist-packages (from matplotlib) (8.4.0)\n",
            "Requirement already satisfied: pyparsing>=2.3.1 in /usr/local/lib/python3.10/dist-packages (from matplotlib) (3.1.0)\n",
            "Requirement already satisfied: scipy>=1.3.2 in /usr/local/lib/python3.10/dist-packages (from scikit-learn) (1.10.1)\n",
            "Requirement already satisfied: joblib>=1.1.1 in /usr/local/lib/python3.10/dist-packages (from scikit-learn) (1.2.0)\n",
            "Requirement already satisfied: threadpoolctl>=2.0.0 in /usr/local/lib/python3.10/dist-packages (from scikit-learn) (3.1.0)\n",
            "Requirement already satisfied: six>=1.5 in /usr/local/lib/python3.10/dist-packages (from python-dateutil>=2.8.1->pandas) (1.16.0)\n"
          ]
        }
      ],
      "source": [
        "!pip install pandas numpy matplotlib seaborn scikit-learn"
      ]
    },
    {
      "cell_type": "code",
      "source": [
        "import numpy as np\n",
        "import pandas as pd"
      ],
      "metadata": {
        "id": "tJLgR2dOEfqx"
      },
      "execution_count": 10,
      "outputs": []
    },
    {
      "cell_type": "code",
      "source": [
        "from typing import List, Dict"
      ],
      "metadata": {
        "id": "otXH9BixGbCX"
      },
      "execution_count": 11,
      "outputs": []
    },
    {
      "cell_type": "code",
      "source": [
        "from sklearn.feature_extraction.text import TfidfVectorizer\n",
        "from sklearn.metrics.pairwise import cosine_similarity"
      ],
      "metadata": {
        "id": "ivyLj5tcGd0s"
      },
      "execution_count": 12,
      "outputs": []
    },
    {
      "cell_type": "code",
      "source": [
        "songs = pd.read_csv('songdata.csv')"
      ],
      "metadata": {
        "id": "8gSJbEnWGgZm"
      },
      "execution_count": 13,
      "outputs": []
    },
    {
      "cell_type": "code",
      "source": [
        "songs = songs.sample(n=10000).drop('link', axis=1).reset_index(drop=True)"
      ],
      "metadata": {
        "id": "Tb4UT9ZVHtw6"
      },
      "execution_count": 14,
      "outputs": []
    },
    {
      "cell_type": "code",
      "source": [
        "songs['text'] = songs['text'].str.replace(r'\\n', '')"
      ],
      "metadata": {
        "id": "ijuACQyoQJEa"
      },
      "execution_count": 15,
      "outputs": []
    },
    {
      "cell_type": "code",
      "source": [
        "tfidf = TfidfVectorizer(analyzer='word', stop_words='english')"
      ],
      "metadata": {
        "id": "NVKPU0g-QOHe"
      },
      "execution_count": 16,
      "outputs": []
    },
    {
      "cell_type": "code",
      "source": [
        "lyrics_mat = tfidf.fit_transform(songs['text'])"
      ],
      "metadata": {
        "id": "giaOEePBQQTj"
      },
      "execution_count": 17,
      "outputs": []
    },
    {
      "cell_type": "code",
      "source": [
        "cosine_similarities = cosine_similarity(lyrics_mat)"
      ],
      "metadata": {
        "id": "aahxh2ynQUpP"
      },
      "execution_count": 18,
      "outputs": []
    },
    {
      "cell_type": "code",
      "source": [
        "similarities = {}"
      ],
      "metadata": {
        "id": "C6-L7roKQZZU"
      },
      "execution_count": 19,
      "outputs": []
    },
    {
      "cell_type": "code",
      "source": [
        "for i in range(len(cosine_similarities)):\n",
        "    similar_indices = cosine_similarities[i].argsort()[:-50:-1]\n",
        "    similarities[songs['song'].iloc[i]] = [(cosine_similarities[i][x], songs['song'][x], songs['artist'][x]) for x in similar_indices][1:]"
      ],
      "metadata": {
        "id": "2Cvd5l-3Qb2E"
      },
      "execution_count": 20,
      "outputs": []
    },
    {
      "cell_type": "code",
      "source": [
        "class ContentBasedRecommender:\n",
        "    def __init__(self, matrix):\n",
        "        self.matrix_similar = matrix\n",
        "\n",
        "    def _print_message(self, song, recommended_song):\n",
        "        recommended_items = len(recommended_song)\n",
        "\n",
        "        print(f'The {recommended_items} recommended songs for {song} are:')\n",
        "        for i in range(recommended_items):\n",
        "            print(f\"Number {i+1}:\")\n",
        "            print(f\"{recommended_song[i][1]} by {recommended_song[i][2]} with {round(recommended_song[i][0], 3)} similarity score\")\n",
        "            print(\"--------------------\")\n",
        "\n",
        "    def recommend(self, recommendation):\n",
        "        # Get song to find recommendations for\n",
        "        song = recommendation['song']\n",
        "        # Get number of songs to recommend\n",
        "        number_songs = recommendation['number_songs']\n",
        "        # Get the number of songs most similars from matrix similarities\n",
        "        recommended_song = self.matrix_similar[song][:number_songs]\n",
        "        # print each item\n",
        "        self._print_message(song=song, recommended_song=recommended_song)"
      ],
      "metadata": {
        "id": "9-Iv6V4yQf2M"
      },
      "execution_count": 21,
      "outputs": []
    },
    {
      "cell_type": "code",
      "source": [
        "recommedations = ContentBasedRecommender(similarities)"
      ],
      "metadata": {
        "id": "UTpSf37VQ5JK"
      },
      "execution_count": 34,
      "outputs": []
    },
    {
      "cell_type": "code",
      "source": [
        "recommendation = {\n",
        "    \"song\": songs['song'].iloc[10],\n",
        "    \"number_songs\": 4\n",
        "}"
      ],
      "metadata": {
        "id": "ZbBkd6wNQ7aA"
      },
      "execution_count": 35,
      "outputs": []
    },
    {
      "cell_type": "code",
      "source": [
        "recommedations.recommend(recommendation)"
      ],
      "metadata": {
        "colab": {
          "base_uri": "https://localhost:8080/"
        },
        "id": "_x2TzC2-Q92h",
        "outputId": "68379be6-aa2d-4c4c-a957-69cf42c548df"
      },
      "execution_count": 36,
      "outputs": [
        {
          "output_type": "stream",
          "name": "stdout",
          "text": [
            "The 4 recommended songs for Scream Until You Like It are:\n",
            "Number 1:\n",
            "Highway by Paul McCartney with 0.41 similarity score\n",
            "--------------------\n",
            "Number 2:\n",
            "Don't You Know by Van Morrison with 0.407 similarity score\n",
            "--------------------\n",
            "Number 3:\n",
            "Scream And Shout by Quiet Riot with 0.373 similarity score\n",
            "--------------------\n",
            "Number 4:\n",
            "Hard To Forget Ya by Britney Spears with 0.361 similarity score\n",
            "--------------------\n"
          ]
        }
      ]
    },
    {
      "cell_type": "code",
      "source": [
        "recommendation_2 = {\n",
        "    \"song\": songs['song'].iloc[124],\n",
        "    \"number_songs\": 4\n",
        "}"
      ],
      "metadata": {
        "id": "6lZOj6-xQ_yz"
      },
      "execution_count": 30,
      "outputs": []
    },
    {
      "cell_type": "code",
      "source": [
        "recommedations.recommend(recommendation_2)"
      ],
      "metadata": {
        "colab": {
          "base_uri": "https://localhost:8080/"
        },
        "id": "jbWFn_uxREDl",
        "outputId": "35d7f9d3-e725-4789-c653-9efe24245e3c"
      },
      "execution_count": 37,
      "outputs": [
        {
          "output_type": "stream",
          "name": "stdout",
          "text": [
            "The 4 recommended songs for Famous Last Words are:\n",
            "Number 1:\n",
            "When The Saint Go Marching In by Harry Belafonte with 0.52 similarity score\n",
            "--------------------\n",
            "Number 2:\n",
            "Saints In Hell by Judas Priest with 0.307 similarity score\n",
            "--------------------\n",
            "Number 3:\n",
            "Marching On by Flo-Rida with 0.287 similarity score\n",
            "--------------------\n",
            "Number 4:\n",
            "English Civil War by Clash with 0.223 similarity score\n",
            "--------------------\n"
          ]
        }
      ]
    },
    {
      "cell_type": "code",
      "source": [
        "recommendation_3 = {\n",
        "    \"song\": songs['song'].iloc[142],\n",
        "    \"number_songs\": 6\n",
        "}"
      ],
      "metadata": {
        "id": "fhy-WPrARPc_"
      },
      "execution_count": 38,
      "outputs": []
    },
    {
      "cell_type": "code",
      "source": [
        "recommedations.recommend(recommendation_3)"
      ],
      "metadata": {
        "id": "uuuhq-w8Rkor",
        "outputId": "37ef0753-711d-4402-a1ae-53b39c5a4ca1",
        "colab": {
          "base_uri": "https://localhost:8080/"
        }
      },
      "execution_count": 39,
      "outputs": [
        {
          "output_type": "stream",
          "name": "stdout",
          "text": [
            "The 6 recommended songs for Anywhere Like Heaven are:\n",
            "Number 1:\n",
            "This Town by Bryan White with 0.343 similarity score\n",
            "--------------------\n",
            "Number 2:\n",
            "Hanging Around by Counting Crows with 0.283 similarity score\n",
            "--------------------\n",
            "Number 3:\n",
            "Small Town by John Mellencamp with 0.26 similarity score\n",
            "--------------------\n",
            "Number 4:\n",
            "Ghost Town by Cheap Trick with 0.258 similarity score\n",
            "--------------------\n",
            "Number 5:\n",
            "Count The Days by Prince with 0.236 similarity score\n",
            "--------------------\n",
            "Number 6:\n",
            "London Town by James Taylor with 0.223 similarity score\n",
            "--------------------\n"
          ]
        }
      ]
    },
    {
      "cell_type": "code",
      "source": [],
      "metadata": {
        "id": "2q4ZGEAqRmc5"
      },
      "execution_count": null,
      "outputs": []
    }
  ]
}